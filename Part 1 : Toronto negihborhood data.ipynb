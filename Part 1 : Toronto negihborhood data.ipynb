{
    "cells": [
        {
            "metadata": {
                "collapsed": true
            },
            "cell_type": "markdown",
            "source": "# Question 1 : Extracting negihborhood data of Toronto City"
        },
        {
            "metadata": {},
            "cell_type": "code",
            "source": "# Importing necessary libraries\n# !pip install bs4\n# !pip install requests\n# !pip install pandas\n\nimport requests\nimport pandas as pd\nfrom bs4 import BeautifulSoup",
            "execution_count": 1,
            "outputs": []
        },
        {
            "metadata": {},
            "cell_type": "markdown",
            "source": "Now the data will be extracted from Wikipedia   \nReference : https://en.wikipedia.org/wiki/List_of_postal_codes_of_Canada:_M  \nWith the help of BeautifulSoup library, I'll extract the human readable data"
        },
        {
            "metadata": {},
            "cell_type": "code",
            "source": "# Downloading url data from wikipedia\nurl = \"https://en.wikipedia.org/wiki/List_of_postal_codes_of_Canada:_M\"\nhtml_data = requests.get(url).text\nCN_data = BeautifulSoup(html_data, 'lxml')",
            "execution_count": 2,
            "outputs": []
        },
        {
            "metadata": {},
            "cell_type": "code",
            "source": "# Creating datafram and assigning columns labels\ncolumn_names = ['Postalcode','Borough','Neighborhood']\nToronto = pd.DataFrame(columns = column_names)",
            "execution_count": 3,
            "outputs": []
        },
        {
            "metadata": {},
            "cell_type": "code",
            "source": "# Assigning values to the datframe\n\ntable = CN_data.find('table').tbody\n\n\nfor tr in table.find_all('tr'):\n   \n    for td in tr.find_all('td'):\n        content = td.getText(separator='|', strip=True).split('|')\n        clean_content = [value for value in content if value != '(' and value != ')' and value != '/' and value != ','] \n        \n#         print(clean_content)\n        \n        number_of_entry = len(content)\n        \n        if number_of_entry == 1:            \n            postcode = clean_content[0]\n            borough = ['']\n            neighborhood = [''] \n        elif number_of_entry == 2:\n            postcode = clean_content[0]\n            borough = clean_content[1]\n            neighborhood = ['']\n        else:\n            postcode = clean_content[0]\n            borough = clean_content[1]\n            neighborhood = ','.join([str(item) for item in clean_content[2:]])\n        \n        Toronto = Toronto.append({'Postalcode': postcode,'Borough': borough,'Neighborhood': neighborhood}, ignore_index=True)\n        \nToronto.head(20)",
            "execution_count": 4,
            "outputs": [
                {
                    "output_type": "execute_result",
                    "execution_count": 4,
                    "data": {
                        "text/plain": "   Postalcode           Borough  \\\n0         M1A      Not assigned   \n1         M2A      Not assigned   \n2         M3A        North York   \n3         M4A        North York   \n4         M5A  Downtown Toronto   \n5         M6A        North York   \n6         M7A      Queen's Park   \n7         M8A      Not assigned   \n8         M9A         Etobicoke   \n9         M1B       Scarborough   \n10        M2B      Not assigned   \n11        M3B        North York   \n12        M4B         East York   \n13        M5B  Downtown Toronto   \n14        M6B        North York   \n15        M7B      Not assigned   \n16        M8B      Not assigned   \n17        M9B         Etobicoke   \n18        M1C       Scarborough   \n19        M2C      Not assigned   \n\n                                         Neighborhood  \n0                                                  []  \n1                                                  []  \n2                                           Parkwoods  \n3                                    Victoria Village  \n4                            Regent Park,Harbourfront  \n5                     Lawrence Manor,Lawrence Heights  \n6                     (Ontario Provincial Government)  \n7                                                  []  \n8                                    Islington Avenue  \n9                                       Malvern,Rouge  \n10                                                 []  \n11                                    Don Mills,North  \n12                     Parkview Hill,Woodbine Gardens  \n13                            Garden District,Ryerson  \n14                                        (Glencairn)  \n15                                                 []  \n16                                                 []  \n17  West Deane Park,Princess Gardens,Martin Grove,...  \n18               Rouge Hill,Port Union,Highland Creek  \n19                                                 []  ",
                        "text/html": "<div>\n<style scoped>\n    .dataframe tbody tr th:only-of-type {\n        vertical-align: middle;\n    }\n\n    .dataframe tbody tr th {\n        vertical-align: top;\n    }\n\n    .dataframe thead th {\n        text-align: right;\n    }\n</style>\n<table border=\"1\" class=\"dataframe\">\n  <thead>\n    <tr style=\"text-align: right;\">\n      <th></th>\n      <th>Postalcode</th>\n      <th>Borough</th>\n      <th>Neighborhood</th>\n    </tr>\n  </thead>\n  <tbody>\n    <tr>\n      <th>0</th>\n      <td>M1A</td>\n      <td>Not assigned</td>\n      <td>[]</td>\n    </tr>\n    <tr>\n      <th>1</th>\n      <td>M2A</td>\n      <td>Not assigned</td>\n      <td>[]</td>\n    </tr>\n    <tr>\n      <th>2</th>\n      <td>M3A</td>\n      <td>North York</td>\n      <td>Parkwoods</td>\n    </tr>\n    <tr>\n      <th>3</th>\n      <td>M4A</td>\n      <td>North York</td>\n      <td>Victoria Village</td>\n    </tr>\n    <tr>\n      <th>4</th>\n      <td>M5A</td>\n      <td>Downtown Toronto</td>\n      <td>Regent Park,Harbourfront</td>\n    </tr>\n    <tr>\n      <th>5</th>\n      <td>M6A</td>\n      <td>North York</td>\n      <td>Lawrence Manor,Lawrence Heights</td>\n    </tr>\n    <tr>\n      <th>6</th>\n      <td>M7A</td>\n      <td>Queen's Park</td>\n      <td>(Ontario Provincial Government)</td>\n    </tr>\n    <tr>\n      <th>7</th>\n      <td>M8A</td>\n      <td>Not assigned</td>\n      <td>[]</td>\n    </tr>\n    <tr>\n      <th>8</th>\n      <td>M9A</td>\n      <td>Etobicoke</td>\n      <td>Islington Avenue</td>\n    </tr>\n    <tr>\n      <th>9</th>\n      <td>M1B</td>\n      <td>Scarborough</td>\n      <td>Malvern,Rouge</td>\n    </tr>\n    <tr>\n      <th>10</th>\n      <td>M2B</td>\n      <td>Not assigned</td>\n      <td>[]</td>\n    </tr>\n    <tr>\n      <th>11</th>\n      <td>M3B</td>\n      <td>North York</td>\n      <td>Don Mills,North</td>\n    </tr>\n    <tr>\n      <th>12</th>\n      <td>M4B</td>\n      <td>East York</td>\n      <td>Parkview Hill,Woodbine Gardens</td>\n    </tr>\n    <tr>\n      <th>13</th>\n      <td>M5B</td>\n      <td>Downtown Toronto</td>\n      <td>Garden District,Ryerson</td>\n    </tr>\n    <tr>\n      <th>14</th>\n      <td>M6B</td>\n      <td>North York</td>\n      <td>(Glencairn)</td>\n    </tr>\n    <tr>\n      <th>15</th>\n      <td>M7B</td>\n      <td>Not assigned</td>\n      <td>[]</td>\n    </tr>\n    <tr>\n      <th>16</th>\n      <td>M8B</td>\n      <td>Not assigned</td>\n      <td>[]</td>\n    </tr>\n    <tr>\n      <th>17</th>\n      <td>M9B</td>\n      <td>Etobicoke</td>\n      <td>West Deane Park,Princess Gardens,Martin Grove,...</td>\n    </tr>\n    <tr>\n      <th>18</th>\n      <td>M1C</td>\n      <td>Scarborough</td>\n      <td>Rouge Hill,Port Union,Highland Creek</td>\n    </tr>\n    <tr>\n      <th>19</th>\n      <td>M2C</td>\n      <td>Not assigned</td>\n      <td>[]</td>\n    </tr>\n  </tbody>\n</table>\n</div>"
                    },
                    "metadata": {}
                }
            ]
        },
        {
            "metadata": {},
            "cell_type": "markdown",
            "source": "Having all data downloaded from the website, now its time to clean the data and look for non null values."
        },
        {
            "metadata": {},
            "cell_type": "code",
            "source": "# Cleaning Dataframe\nToronto = Toronto[Toronto.Borough != 'Not assigned']\nToronto = Toronto[Toronto.Borough != 0]\nToronto.reset_index(drop = True, inplace = True)\n\nfor j in range(0,Toronto.shape[0]):\n    if Toronto.iloc[j][2] == 'Not assigned':\n        Toronto.iloc[j][2] = Toronto.iloc[j][1]\n        j += 1\n\ndataframe = Toronto.groupby(['Postalcode','Borough'])['Neighborhood'].apply(', '.join).reset_index()\ndataframe.head()",
            "execution_count": 5,
            "outputs": [
                {
                    "output_type": "execute_result",
                    "execution_count": 5,
                    "data": {
                        "text/plain": "  Postalcode      Borough                          Neighborhood\n0        M1B  Scarborough                         Malvern,Rouge\n1        M1C  Scarborough  Rouge Hill,Port Union,Highland Creek\n2        M1E  Scarborough       Guildwood,Morningside,West Hill\n3        M1G  Scarborough                                Woburn\n4        M1H  Scarborough                             Cedarbrae",
                        "text/html": "<div>\n<style scoped>\n    .dataframe tbody tr th:only-of-type {\n        vertical-align: middle;\n    }\n\n    .dataframe tbody tr th {\n        vertical-align: top;\n    }\n\n    .dataframe thead th {\n        text-align: right;\n    }\n</style>\n<table border=\"1\" class=\"dataframe\">\n  <thead>\n    <tr style=\"text-align: right;\">\n      <th></th>\n      <th>Postalcode</th>\n      <th>Borough</th>\n      <th>Neighborhood</th>\n    </tr>\n  </thead>\n  <tbody>\n    <tr>\n      <th>0</th>\n      <td>M1B</td>\n      <td>Scarborough</td>\n      <td>Malvern,Rouge</td>\n    </tr>\n    <tr>\n      <th>1</th>\n      <td>M1C</td>\n      <td>Scarborough</td>\n      <td>Rouge Hill,Port Union,Highland Creek</td>\n    </tr>\n    <tr>\n      <th>2</th>\n      <td>M1E</td>\n      <td>Scarborough</td>\n      <td>Guildwood,Morningside,West Hill</td>\n    </tr>\n    <tr>\n      <th>3</th>\n      <td>M1G</td>\n      <td>Scarborough</td>\n      <td>Woburn</td>\n    </tr>\n    <tr>\n      <th>4</th>\n      <td>M1H</td>\n      <td>Scarborough</td>\n      <td>Cedarbrae</td>\n    </tr>\n  </tbody>\n</table>\n</div>"
                    },
                    "metadata": {}
                }
            ]
        },
        {
            "metadata": {},
            "cell_type": "code",
            "source": "dataframe = dataframe.dropna()\nnull = 'Not assigned'\ndataframe = dataframe[(dataframe.Postalcode != null) & (dataframe.Borough != null) & (dataframe.Neighborhood != null)]",
            "execution_count": 6,
            "outputs": []
        },
        {
            "metadata": {},
            "cell_type": "code",
            "source": "dataframe.head()",
            "execution_count": 7,
            "outputs": [
                {
                    "output_type": "execute_result",
                    "execution_count": 7,
                    "data": {
                        "text/plain": "  Postalcode      Borough                          Neighborhood\n0        M1B  Scarborough                         Malvern,Rouge\n1        M1C  Scarborough  Rouge Hill,Port Union,Highland Creek\n2        M1E  Scarborough       Guildwood,Morningside,West Hill\n3        M1G  Scarborough                                Woburn\n4        M1H  Scarborough                             Cedarbrae",
                        "text/html": "<div>\n<style scoped>\n    .dataframe tbody tr th:only-of-type {\n        vertical-align: middle;\n    }\n\n    .dataframe tbody tr th {\n        vertical-align: top;\n    }\n\n    .dataframe thead th {\n        text-align: right;\n    }\n</style>\n<table border=\"1\" class=\"dataframe\">\n  <thead>\n    <tr style=\"text-align: right;\">\n      <th></th>\n      <th>Postalcode</th>\n      <th>Borough</th>\n      <th>Neighborhood</th>\n    </tr>\n  </thead>\n  <tbody>\n    <tr>\n      <th>0</th>\n      <td>M1B</td>\n      <td>Scarborough</td>\n      <td>Malvern,Rouge</td>\n    </tr>\n    <tr>\n      <th>1</th>\n      <td>M1C</td>\n      <td>Scarborough</td>\n      <td>Rouge Hill,Port Union,Highland Creek</td>\n    </tr>\n    <tr>\n      <th>2</th>\n      <td>M1E</td>\n      <td>Scarborough</td>\n      <td>Guildwood,Morningside,West Hill</td>\n    </tr>\n    <tr>\n      <th>3</th>\n      <td>M1G</td>\n      <td>Scarborough</td>\n      <td>Woburn</td>\n    </tr>\n    <tr>\n      <th>4</th>\n      <td>M1H</td>\n      <td>Scarborough</td>\n      <td>Cedarbrae</td>\n    </tr>\n  </tbody>\n</table>\n</div>"
                    },
                    "metadata": {}
                }
            ]
        },
        {
            "metadata": {},
            "cell_type": "code",
            "source": "def neighborhood_list(grouped):    \n    return ', '.join(sorted(grouped['Neighborhood'].tolist()))\n                    \ngrp = dataframe.groupby(['Postalcode', 'Borough'])\ndataframe_2 = grp.apply(neighborhood_list).reset_index(name='Neighborhood')",
            "execution_count": 8,
            "outputs": []
        },
        {
            "metadata": {},
            "cell_type": "code",
            "source": "print(dataframe_2.shape)\ndataframe_2.head(10)",
            "execution_count": 9,
            "outputs": [
                {
                    "output_type": "stream",
                    "text": "(103, 3)\n",
                    "name": "stdout"
                },
                {
                    "output_type": "execute_result",
                    "execution_count": 9,
                    "data": {
                        "text/plain": "  Postalcode      Borough                                    Neighborhood\n0        M1B  Scarborough                                   Malvern,Rouge\n1        M1C  Scarborough            Rouge Hill,Port Union,Highland Creek\n2        M1E  Scarborough                 Guildwood,Morningside,West Hill\n3        M1G  Scarborough                                          Woburn\n4        M1H  Scarborough                                       Cedarbrae\n5        M1J  Scarborough                             Scarborough Village\n6        M1K  Scarborough     Kennedy Park,Ionview,/ East,Birchmount Park\n7        M1L  Scarborough                   Golden Mile,Clairlea,Oakridge\n8        M1M  Scarborough  Cliffside,Cliffcrest,Scarborough Village,West)\n9        M1N  Scarborough                     Birch Cliff,Cliffside,West)",
                        "text/html": "<div>\n<style scoped>\n    .dataframe tbody tr th:only-of-type {\n        vertical-align: middle;\n    }\n\n    .dataframe tbody tr th {\n        vertical-align: top;\n    }\n\n    .dataframe thead th {\n        text-align: right;\n    }\n</style>\n<table border=\"1\" class=\"dataframe\">\n  <thead>\n    <tr style=\"text-align: right;\">\n      <th></th>\n      <th>Postalcode</th>\n      <th>Borough</th>\n      <th>Neighborhood</th>\n    </tr>\n  </thead>\n  <tbody>\n    <tr>\n      <th>0</th>\n      <td>M1B</td>\n      <td>Scarborough</td>\n      <td>Malvern,Rouge</td>\n    </tr>\n    <tr>\n      <th>1</th>\n      <td>M1C</td>\n      <td>Scarborough</td>\n      <td>Rouge Hill,Port Union,Highland Creek</td>\n    </tr>\n    <tr>\n      <th>2</th>\n      <td>M1E</td>\n      <td>Scarborough</td>\n      <td>Guildwood,Morningside,West Hill</td>\n    </tr>\n    <tr>\n      <th>3</th>\n      <td>M1G</td>\n      <td>Scarborough</td>\n      <td>Woburn</td>\n    </tr>\n    <tr>\n      <th>4</th>\n      <td>M1H</td>\n      <td>Scarborough</td>\n      <td>Cedarbrae</td>\n    </tr>\n    <tr>\n      <th>5</th>\n      <td>M1J</td>\n      <td>Scarborough</td>\n      <td>Scarborough Village</td>\n    </tr>\n    <tr>\n      <th>6</th>\n      <td>M1K</td>\n      <td>Scarborough</td>\n      <td>Kennedy Park,Ionview,/ East,Birchmount Park</td>\n    </tr>\n    <tr>\n      <th>7</th>\n      <td>M1L</td>\n      <td>Scarborough</td>\n      <td>Golden Mile,Clairlea,Oakridge</td>\n    </tr>\n    <tr>\n      <th>8</th>\n      <td>M1M</td>\n      <td>Scarborough</td>\n      <td>Cliffside,Cliffcrest,Scarborough Village,West)</td>\n    </tr>\n    <tr>\n      <th>9</th>\n      <td>M1N</td>\n      <td>Scarborough</td>\n      <td>Birch Cliff,Cliffside,West)</td>\n    </tr>\n  </tbody>\n</table>\n</div>"
                    },
                    "metadata": {}
                }
            ]
        },
        {
            "metadata": {},
            "cell_type": "code",
            "source": "print('The DataFrame shape is ', dataframe_2.shape)",
            "execution_count": 10,
            "outputs": [
                {
                    "output_type": "stream",
                    "text": "The DataFrame shape is  (103, 3)\n",
                    "name": "stdout"
                }
            ]
        }
    ],
    "metadata": {
        "kernelspec": {
            "name": "python3",
            "display_name": "Python 3.8",
            "language": "python"
        },
        "language_info": {
            "name": "python",
            "version": "3.8.10",
            "mimetype": "text/x-python",
            "codemirror_mode": {
                "name": "ipython",
                "version": 3
            },
            "pygments_lexer": "ipython3",
            "nbconvert_exporter": "python",
            "file_extension": ".py"
        }
    },
    "nbformat": 4,
    "nbformat_minor": 1
}